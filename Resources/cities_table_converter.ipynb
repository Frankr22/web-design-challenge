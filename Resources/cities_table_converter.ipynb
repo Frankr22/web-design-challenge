{
 "cells": [
  {
   "cell_type": "code",
   "execution_count": 1,
   "metadata": {},
   "outputs": [],
   "source": [
    "# Dependencies and Setup\n",
    "import pandas as pd"
   ]
  },
  {
   "cell_type": "code",
   "execution_count": 2,
   "metadata": {},
   "outputs": [],
   "source": [
    "# Read the CSV file into a Pandas DataFrame\n",
    "df = pd.read_csv(\"cities.csv\")\n",
    "\n",
    "# Convert the Lat and Lng columns to 2 decimal places\n",
    "df[\"Lat\"] = df[\"Lat\"].round(2)\n",
    "df[\"Lng\"] = df[\"Lng\"].round(2)\n",
    "\n",
    "# Capitalize the City column\n",
    "df[\"City\"] = df[\"City\"].str.capitalize()\n",
    "\n",
    "# Convert the Date column to YYYY-MM-DD format\n",
    "df[\"Date\"] = pd.to_datetime(df[\"Date\"], unit='s').dt.strftime('%Y-%m-%d')\n",
    "\n",
    "# Convert the DataFrame to an HTML table\n",
    "html_table = df.to_html(index=False)\n",
    "\n",
    "# Write the HTML table to a file\n",
    "with open(\"cities_table.html\", \"w\") as f:\n",
    "    f.write(html_table)"
   ]
  }
 ],
 "metadata": {
  "kernelspec": {
   "display_name": "PythonData",
   "language": "python",
   "name": "python3"
  },
  "language_info": {
   "codemirror_mode": {
    "name": "ipython",
    "version": 3
   },
   "file_extension": ".py",
   "mimetype": "text/x-python",
   "name": "python",
   "nbconvert_exporter": "python",
   "pygments_lexer": "ipython3",
   "version": "3.7.7"
  },
  "orig_nbformat": 4,
  "vscode": {
   "interpreter": {
    "hash": "5c1d2876f43601cb08f65d31fa8d9f7c1aeadba0489b038973d12695d5e103ec"
   }
  }
 },
 "nbformat": 4,
 "nbformat_minor": 2
}
